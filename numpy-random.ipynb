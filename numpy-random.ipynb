{
 "cells": [
  {
   "cell_type": "markdown",
   "metadata": {},
   "source": [
    "# The numpy-random package"
   ]
  },
  {
   "cell_type": "markdown",
   "metadata": {},
   "source": [
    "![title](images/python-numpy-logo.png)"
   ]
  },
  {
   "cell_type": "markdown",
   "metadata": {},
   "source": [
    "In this assignment I will be looking at the numpy.random package. I hope to:\n",
    "\n",
    "1) Explain the overall purpose of the package.\n",
    "\n",
    "2) Explain the use of the \"Simple random data\" and \"Permutations\" functions.\n",
    "\n",
    "3) Explain the use and purpose of at least five \"Distributions\" functions.\n",
    "\n",
    "4) Explain the use of seeds in generating pseudorandom numbers."
   ]
  },
  {
   "cell_type": "markdown",
   "metadata": {},
   "source": [
    "## What is the NumPy Random Package?"
   ]
  },
  {
   "cell_type": "markdown",
   "metadata": {},
   "source": [
    "NumPy is the fundamental package for scientific computing in Python. The name is an acronym for \"Numeric Python\" It is a library that provides a multidimensional array object, various derived objects and an assortment of routines for fast operations on arrays, including mathematical, logical, shape manipulation, sorting, selecting, I/O, discrete Fournier transforms, basic linear algebra, basic statistical operations, random simulation and much more.\n",
    "\n",
    "The NumPy.Random package is a package within the overall Numpy package.It's unsually used in conjunction with other Python packages.  This package allows for generating random data that can be analysed. This package contains numerous functions that fall under four seperate headings, random sampling, pemutations, distributions and random generator. I will be looking into these further in this assignment."
   ]
  },
  {
   "cell_type": "code",
   "execution_count": 36,
   "metadata": {},
   "outputs": [],
   "source": [
    "# Need to import the numpy package and matplotlib to investihgate the functions.\n",
    "import numpy as np\n",
    "import matplotlib.pyplot as plt\n",
    "import seaborn as sns"
   ]
  },
  {
   "cell_type": "markdown",
   "metadata": {},
   "source": [
    "## Simple Random Sampling"
   ]
  },
  {
   "cell_type": "markdown",
   "metadata": {},
   "source": [
    "The simple random data function in the numpy.random package provides a number of different functions that allow for pseudorandom random data to be generated. A look at the main Rand function:"
   ]
  },
  {
   "cell_type": "markdown",
   "metadata": {},
   "source": [
    "#### Rand Function\n",
    "This function generates random numbers between 0 and 1 but not including 1."
   ]
  },
  {
   "cell_type": "code",
   "execution_count": 29,
   "metadata": {},
   "outputs": [
    {
     "data": {
      "text/plain": [
       "0.45245556222331684"
      ]
     },
     "execution_count": 29,
     "metadata": {},
     "output_type": "execute_result"
    }
   ],
   "source": [
    "np.random.rand() "
   ]
  },
  {
   "cell_type": "markdown",
   "metadata": {},
   "source": [
    "It's also possible to generate more than one random number at a time by adding any additional number of rows and columns."
   ]
  },
  {
   "cell_type": "code",
   "execution_count": 30,
   "metadata": {},
   "outputs": [
    {
     "data": {
      "text/plain": [
       "array([[0.95821771, 0.57005019, 0.55011425, 0.43911237, 0.71757303,\n",
       "        0.19611269, 0.27543392, 0.71177909, 0.77770945, 0.66814782],\n",
       "       [0.65638687, 0.88261265, 0.63164957, 0.59361449, 0.0534458 ,\n",
       "        0.53645515, 0.75706822, 0.49324674, 0.9889599 , 0.49376767],\n",
       "       [0.19792949, 0.972281  , 0.31441656, 0.50337309, 0.15904398,\n",
       "        0.54084567, 0.50737926, 0.17092269, 0.46568847, 0.28817802],\n",
       "       [0.53795802, 0.04757032, 0.54569098, 0.78014277, 0.2076609 ,\n",
       "        0.10650354, 0.53787975, 0.55734842, 0.52088805, 0.28655296],\n",
       "       [0.38199546, 0.56541884, 0.39024858, 0.7745412 , 0.4663792 ,\n",
       "        0.57471466, 0.99891214, 0.71137144, 0.56063032, 0.56998966]])"
      ]
     },
     "execution_count": 30,
     "metadata": {},
     "output_type": "execute_result"
    }
   ],
   "source": [
    "np.random.rand(5,10) "
   ]
  },
  {
   "cell_type": "markdown",
   "metadata": {},
   "source": [
    "It's also possible to go further and add new arrays."
   ]
  },
  {
   "cell_type": "code",
   "execution_count": 31,
   "metadata": {},
   "outputs": [
    {
     "data": {
      "text/plain": [
       "array([[[0.41509612, 0.17676413, 0.34980509, 0.32503939, 0.55987683],\n",
       "        [0.90890107, 0.93068766, 0.64740785, 0.66703966, 0.01622821],\n",
       "        [0.21152792, 0.59312114, 0.31952751, 0.37045996, 0.80488563],\n",
       "        [0.29407743, 0.71144165, 0.60326956, 0.8865786 , 0.79739889]],\n",
       "\n",
       "       [[0.25630017, 0.53797575, 0.53942701, 0.25954594, 0.1939964 ],\n",
       "        [0.07851067, 0.62486615, 0.33110266, 0.90126897, 0.85228721],\n",
       "        [0.47969637, 0.9196518 , 0.75379072, 0.91570941, 0.32469812],\n",
       "        [0.67091018, 0.07148676, 0.66316091, 0.73377302, 0.08887344]],\n",
       "\n",
       "       [[0.75705564, 0.02399338, 0.02778562, 0.32426016, 0.21426808],\n",
       "        [0.91307183, 0.75205277, 0.02542441, 0.87852371, 0.71475005],\n",
       "        [0.30207694, 0.25555522, 0.05584411, 0.92448864, 0.45794219],\n",
       "        [0.94400388, 0.17211225, 0.96877775, 0.74683709, 0.88758913]]])"
      ]
     },
     "execution_count": 31,
     "metadata": {},
     "output_type": "execute_result"
    }
   ],
   "source": [
    "np.random.rand(3, 4, 5)"
   ]
  },
  {
   "cell_type": "markdown",
   "metadata": {},
   "source": [
    "Plotting a histogram to have a closer look at these randomly generated numbers where numpy will take all of the random values generated and plot them accordingly."
   ]
  },
  {
   "cell_type": "code",
   "execution_count": 32,
   "metadata": {},
   "outputs": [
    {
     "data": {
      "text/plain": [
       "(array([ 984., 1004., 1016., 1002.,  971., 1023., 1024., 1021.,  952.,\n",
       "        1003.]),\n",
       " array([1.31726049e-05, 1.00010715e-01, 2.00008258e-01, 3.00005801e-01,\n",
       "        4.00003344e-01, 5.00000887e-01, 5.99998430e-01, 6.99995973e-01,\n",
       "        7.99993516e-01, 8.99991058e-01, 9.99988601e-01]),\n",
       " <a list of 10 Patch objects>)"
      ]
     },
     "execution_count": 32,
     "metadata": {},
     "output_type": "execute_result"
    },
    {
     "data": {
      "image/png": "[encoded data removed]",
      "text/plain": [
       "<Figure size 432x288 with 1 Axes>"
      ]
     },
     "metadata": {},
     "output_type": "display_data"
    }
   ],
   "source": [
    "x = np.random.rand (10000)\n",
    "plt.hist(x)"
   ]
  },
  {
   "cell_type": "markdown",
   "metadata": {},
   "source": [
    "On the histogram it's possible to see that out of the 10000 values generated, the breakdown betweem 0.0 and 1 has been broken into 10's (0.0, 0.1, 0.2, 0.3 etc) and there random numbers generated within these subsets is \"roughly\" the same. The values are all near 1000 so it shows that there was a relatively even spread of random numbers selected between 0.0 and 1.0. "
   ]
  },
  {
   "cell_type": "markdown",
   "metadata": {},
   "source": [
    "## Permutations"
   ]
  },
  {
   "cell_type": "markdown",
   "metadata": {},
   "source": [
    "In mathematics and statistics, a permutation is an arrangement of the members of a non-empty set. This is different to a combination which focuses on the selection of objects without regard to the order in which they are selected. In numpy.random there are two permutation functions that allow for a distinct set of numbers to be generated in permutations. These are the Permutation Function and the Shuffle Function."
   ]
  },
  {
   "cell_type": "markdown",
   "metadata": {},
   "source": [
    "#### Permutation Function\n",
    "This function allows a sequence of numbers to be generated in no specific order"
   ]
  },
  {
   "cell_type": "code",
   "execution_count": 7,
   "metadata": {},
   "outputs": [
    {
     "data": {
      "text/plain": [
       "array([1, 7, 2, 4, 0, 3, 9, 8, 5, 6])"
      ]
     },
     "execution_count": 7,
     "metadata": {},
     "output_type": "execute_result"
    }
   ],
   "source": [
    "np.random.permutation(10)"
   ]
  },
  {
   "cell_type": "markdown",
   "metadata": {},
   "source": [
    "It's also possible to break the sequence of numbers into seperate sets."
   ]
  },
  {
   "cell_type": "code",
   "execution_count": 8,
   "metadata": {},
   "outputs": [
    {
     "data": {
      "text/plain": [
       "array([[ 9, 10, 11],\n",
       "       [ 0,  1,  2],\n",
       "       [ 3,  4,  5],\n",
       "       [ 6,  7,  8]])"
      ]
     },
     "execution_count": 8,
     "metadata": {},
     "output_type": "execute_result"
    }
   ],
   "source": [
    "arr = np.arange(12).reshape((4, 3))\n",
    "np.random.permutation(arr)"
   ]
  },
  {
   "cell_type": "markdown",
   "metadata": {},
   "source": [
    "It's also possible to provide a specific set of numbers which can be returned in a permutated range."
   ]
  },
  {
   "cell_type": "code",
   "execution_count": 9,
   "metadata": {},
   "outputs": [
    {
     "data": {
      "text/plain": [
       "array([11,  5,  1, 15,  8])"
      ]
     },
     "execution_count": 9,
     "metadata": {},
     "output_type": "execute_result"
    }
   ],
   "source": [
    "np.random.permutation([1, 5, 8, 11, 15 ])"
   ]
  },
  {
   "cell_type": "markdown",
   "metadata": {},
   "source": [
    "#### Shuffle Function\n",
    "This function when used like this is very similar to the permutations function."
   ]
  },
  {
   "cell_type": "code",
   "execution_count": 10,
   "metadata": {},
   "outputs": [
    {
     "data": {
      "text/plain": [
       "array([1, 9, 3, 0, 8, 5, 6, 7, 4, 2])"
      ]
     },
     "execution_count": 10,
     "metadata": {},
     "output_type": "execute_result"
    }
   ],
   "source": [
    "arr = np.arange(10)\n",
    "np.random.shuffle(arr)\n",
    "arr"
   ]
  },
  {
   "cell_type": "markdown",
   "metadata": {},
   "source": [
    "With multi-dimensional arrays,these are only shuffled along the first axis so it is the array rows that are shuffled but not the numbers in each set."
   ]
  },
  {
   "cell_type": "code",
   "execution_count": 11,
   "metadata": {},
   "outputs": [
    {
     "data": {
      "text/plain": [
       "array([[0, 1, 2],\n",
       "       [3, 4, 5],\n",
       "       [6, 7, 8]])"
      ]
     },
     "execution_count": 11,
     "metadata": {},
     "output_type": "execute_result"
    }
   ],
   "source": [
    "arr = np.arange(9).reshape((3, 3))\n",
    "np.random.shuffle(arr)\n",
    "arr"
   ]
  },
  {
   "cell_type": "markdown",
   "metadata": {},
   "source": [
    "## Distributions"
   ]
  },
  {
   "cell_type": "markdown",
   "metadata": {},
   "source": [
    "The distribution of a statistical data set is a listing or function showing all the possible values of the data and how often they occur. When a distribution of categorial data is organized, it's possible to see the nuber or percentage in each group. In numpy there are multiple functions that allow data samples to be drawn from different types of distributions. I will take a closer look at five of these different Distribution Functions. "
   ]
  },
  {
   "cell_type": "markdown",
   "metadata": {},
   "source": [
    "#### The Binomial Distribution\n",
    "In statistics, the binomial distribution is a frequency distribution of the possible number of successful outcomes in a given number of trials in each of which there is the same probability of success. The criteria for a binomial distribution are:\n",
    "\n",
    "1) The experiment consists of \"n\" repeated trials.\n",
    "2) Each trial can only result in two possible outcomes, a \"success\" or a \"failure\".\n",
    "3) The probability of success, denoted by \"p\", is the same on every trial.\n",
    "4) The trials are interdependent where the outcome of one trial does not affect the outcome of the other trials.\n",
    "\n",
    "The best example of a binomial distribution is a simple coin flip experiment.\n",
    "\n",
    "A coin is flipped 10(n) times.\n",
    "Each flip can result only in two possible outcomes, heads or tails. Lets say heads = success and tails = failure\n",
    "The probability of success (heads) is constant - 0.5(p) on every trial.\n",
    "Each flip has no impact on the previous flip.\n",
    "\n",
    "Let's have a look"
   ]
  },
  {
   "cell_type": "code",
   "execution_count": 41,
   "metadata": {},
   "outputs": [
    {
     "name": "stdout",
     "output_type": "stream",
     "text": [
      "[6 6 7 6 7 5 3 2 5 6 4 6 4 5 5 7 5 5 5 7 6 6 4 4 3 5 4 7 3 4 7 6 4 5 4 6 4\n",
      " 6 5 5 3 7 5 4 4 5 2 4 6 8 7 5 4 6 6 5 5 6 2 3 7 3 6 5 5 4 3 3 3 4 7 5 8 0\n",
      " 5 4 7 4 7 5 3 4 8 3 7 5 5 7 6 6 5 4 4 6 5 5 4 3 3 5]\n"
     ]
    }
   ],
   "source": [
    "n, p = 10, .5  # number of trials, probability of each trial\n",
    "s = np.random.binomial(n, p, 100) # s is the number of times the coin lands showing heads (success)\n",
    "print(s)\n",
    "# result of flipping a coin 10 times (and if this trial of 10 flips was conducted 100 times)"
   ]
  },
  {
   "cell_type": "markdown",
   "metadata": {},
   "source": [
    "## Looking at the binomial distribution in a graph"
   ]
  },
  {
   "cell_type": "code",
   "execution_count": 45,
   "metadata": {},
   "outputs": [
    {
     "name": "stderr",
     "output_type": "stream",
     "text": [
      "C:\\Users\\I304302\\AppData\\Local\\Continuum\\anaconda3\\lib\\site-packages\\matplotlib\\axes\\_axes.py:6462: UserWarning: The 'normed' kwarg is deprecated, and has been replaced by the 'density' kwarg.\n",
      "  warnings.warn(\"The 'normed' kwarg is deprecated, and has been \"\n"
     ]
    },
    {
     "data": {
      "text/plain": [
       "[Text(0,0.5,'Frequency'), Text(0.5,0,'Binomial')]"
      ]
     },
     "execution_count": 45,
     "metadata": {},
     "output_type": "execute_result"
    },
    {
     "data": {
      "image/png": "[encoded data removed]",
      "text/plain": [
       "<Figure size 432x288 with 1 Axes>"
      ]
     },
     "metadata": {},
     "output_type": "display_data"
    }
   ],
   "source": [
    "from scipy.stats import binom # import binom module from scipy.stats to generate random variables \n",
    "binom.rvs(n=10,p=0.5) # as with the coin example lets look at the number of success from 10 trials with a 0.5 probability of success\n",
    "data_binom = binom.rvs(n=10,p=0.5,size=1000) # use binom.rvs to repeat the trials with size arguement so 1000 times the trails are repeated\n",
    "ax = sns.distplot(data_binom,\n",
    "                  kde=False,\n",
    "                  color='skyblue',\n",
    "                  hist_kws={\"linewidth\": 15,'alpha':1})\n",
    "ax.set(xlabel='Binomial', ylabel='Frequency')"
   ]
  },
  {
   "cell_type": "markdown",
   "metadata": {},
   "source": [
    "We can see the graph produces similar results to the example, if a coin is flipped 10 times there is more of a chance the the probability of success \"landing on heads\" will be closer to the central probability chance of 5 in 10 then on the outer findges of a 9 in 10 or 1 in 10 chance of success as indicated in the graph."
   ]
  },
  {
   "cell_type": "code",
   "execution_count": null,
   "metadata": {},
   "outputs": [],
   "source": []
  }
 ],
 "metadata": {
  "kernelspec": {
   "display_name": "Python 3",
   "language": "python",
   "name": "python3"
  },
  "language_info": {
   "codemirror_mode": {
    "name": "ipython",
    "version": 3
   },
   "file_extension": ".py",
   "mimetype": "text/x-python",
   "name": "python",
   "nbconvert_exporter": "python",
   "pygments_lexer": "ipython3",
   "version": "3.6.5"
  }
 },
 "nbformat": 4,
 "nbformat_minor": 2
}
