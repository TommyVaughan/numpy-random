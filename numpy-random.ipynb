{
 "cells": [
  {
   "cell_type": "markdown",
   "metadata": {},
   "source": [
    "# The numpy-random package"
   ]
  },
  {
   "cell_type": "markdown",
   "metadata": {},
   "source": [
    "![title](images/python-numpy-logo.png)"
   ]
  },
  {
   "cell_type": "markdown",
   "metadata": {},
   "source": [
    "In this assignment I will be looking at the numpy.random package. I hope to:\n",
    "\n",
    "1) Explain the overall purpose of the package.\n",
    "\n",
    "2) Explain the use of the \"Simple random data\" and \"Permutations\" functions.\n",
    "\n",
    "3) Explain the use and purpose of at least five \"Distributions\" functions.\n",
    "\n",
    "4) Explain the use of seeds in generating pseudorandom numbers."
   ]
  },
  {
   "cell_type": "markdown",
   "metadata": {},
   "source": [
    "## What is the NumPy Random Package?"
   ]
  },
  {
   "cell_type": "markdown",
   "metadata": {},
   "source": [
    "NumPy is the fundamental package for scientific computing in Python. The name is an acronym for \"Numeric Python\" It is a library that provides a multidimensional array object, various derived objects and an assortment of routines for fast operations on arrays, including mathematical, logical, shape manipulation, sorting, selecting, I/O, discrete Fournier transforms, basic linear algebra, basic statistical operations, random simulation and much more.\n",
    "\n",
    "The NumPy.Random package is a package within the overall Numpy package.It's unsually used in conjunction with other Python packages.  This package allows for generating random data that can be analysed. This package contains numerous functions that fall under four seperate headings, random sampling, pemutations, distributions and random generator. I will be looking into these further in this assignment."
   ]
  },
  {
   "cell_type": "code",
   "execution_count": 2,
   "metadata": {},
   "outputs": [],
   "source": [
    "# Need to import the numpy package and matplotlib to investihgate the functions.\n",
    "import numpy as np\n",
    "import matplotlib.pyplot as plt"
   ]
  },
  {
   "cell_type": "markdown",
   "metadata": {},
   "source": [
    "## Simple Random Sampling"
   ]
  },
  {
   "cell_type": "markdown",
   "metadata": {},
   "source": [
    "The simple random data function in the numpy.random package provides a number of different functions that allow for pseudorandom random data to be generated. A look at the main Rand function:"
   ]
  },
  {
   "cell_type": "markdown",
   "metadata": {},
   "source": [
    "#### Rand Function\n",
    "This function generates random numbers between 0 and 1 but not including 1."
   ]
  },
  {
   "cell_type": "code",
   "execution_count": 10,
   "metadata": {},
   "outputs": [
    {
     "data": {
      "text/plain": [
       "0.09726430981404344"
      ]
     },
     "execution_count": 10,
     "metadata": {},
     "output_type": "execute_result"
    }
   ],
   "source": [
    "np.random.rand() "
   ]
  },
  {
   "cell_type": "markdown",
   "metadata": {},
   "source": [
    "It's also possible to generate more than one random number at a time by adding any additional number of rows and columns."
   ]
  },
  {
   "cell_type": "code",
   "execution_count": 11,
   "metadata": {},
   "outputs": [
    {
     "data": {
      "text/plain": [
       "array([[0.26463318, 0.11706861, 0.28450312, 0.6894246 , 0.09960056,\n",
       "        0.15670444, 0.20504613, 0.27550697, 0.7698469 , 0.18057432],\n",
       "       [0.11006963, 0.3762842 , 0.51962153, 0.06098804, 0.26537685,\n",
       "        0.45810075, 0.95971867, 0.90584917, 0.95390908, 0.50943166],\n",
       "       [0.03188348, 0.11985157, 0.76812026, 0.96838937, 0.82654781,\n",
       "        0.23264622, 0.87573591, 0.648293  , 0.95543523, 0.50746138],\n",
       "       [0.99554395, 0.72475484, 0.02340467, 0.28174427, 0.93365683,\n",
       "        0.79177179, 0.82870233, 0.42089564, 0.67078585, 0.03286221],\n",
       "       [0.67899424, 0.1736425 , 0.15568776, 0.50156972, 0.81112771,\n",
       "        0.1865861 , 0.23224105, 0.7550142 , 0.33899405, 0.19364385]])"
      ]
     },
     "execution_count": 11,
     "metadata": {},
     "output_type": "execute_result"
    }
   ],
   "source": [
    "np.random.rand(5,10) "
   ]
  },
  {
   "cell_type": "markdown",
   "metadata": {},
   "source": [
    "It's also possible to go further and add new arrays."
   ]
  },
  {
   "cell_type": "code",
   "execution_count": 12,
   "metadata": {},
   "outputs": [
    {
     "data": {
      "text/plain": [
       "array([[[0.61351934, 0.89497431, 0.23422746, 0.34211637, 0.55161841],\n",
       "        [0.28569994, 0.07089808, 0.15075655, 0.47291268, 0.24351955],\n",
       "        [0.84757846, 0.41631008, 0.13905405, 0.04293224, 0.01661411],\n",
       "        [0.25927661, 0.90960405, 0.02791262, 0.28549796, 0.31683776]],\n",
       "\n",
       "       [[0.19450612, 0.42976417, 0.37991518, 0.51145502, 0.54962472],\n",
       "        [0.62908421, 0.90319835, 0.37449648, 0.61917788, 0.47469707],\n",
       "        [0.25899431, 0.17702884, 0.37224511, 0.75665332, 0.44487602],\n",
       "        [0.17965945, 0.12408206, 0.28905576, 0.03707273, 0.75648644]],\n",
       "\n",
       "       [[0.4228999 , 0.59650622, 0.37140245, 0.73321975, 0.92625845],\n",
       "        [0.71009197, 0.14716418, 0.93570478, 0.00973588, 0.94492814],\n",
       "        [0.71712756, 0.23446404, 0.34840753, 0.9326393 , 0.36423195],\n",
       "        [0.47526382, 0.30338386, 0.4892733 , 0.00881288, 0.86660038]]])"
      ]
     },
     "execution_count": 12,
     "metadata": {},
     "output_type": "execute_result"
    }
   ],
   "source": [
    "np.random.rand(3, 4, 5)"
   ]
  },
  {
   "cell_type": "markdown",
   "metadata": {},
   "source": [
    "Plotting a histogram to have a closer look at these randomly generated numbers where numpy will take all of the random values generated and plot them accordingly."
   ]
  },
  {
   "cell_type": "code",
   "execution_count": 13,
   "metadata": {},
   "outputs": [
    {
     "data": {
      "text/plain": [
       "(array([1004.,  955.,  955., 1009., 1006., 1002., 1058., 1043.,  965.,\n",
       "        1003.]),\n",
       " array([2.29677474e-05, 1.00020254e-01, 2.00017539e-01, 3.00014825e-01,\n",
       "        4.00012111e-01, 5.00009397e-01, 6.00006682e-01, 7.00003968e-01,\n",
       "        8.00001254e-01, 8.99998540e-01, 9.99995826e-01]),\n",
       " <a list of 10 Patch objects>)"
      ]
     },
     "execution_count": 13,
     "metadata": {},
     "output_type": "execute_result"
    },
    {
     "data": {
      "image/png": "[encoded data removed]",
      "text/plain": [
       "<Figure size 432x288 with 1 Axes>"
      ]
     },
     "metadata": {},
     "output_type": "display_data"
    }
   ],
   "source": [
    "x = np.random.rand (10000)\n",
    "plt.hist(x)"
   ]
  },
  {
   "cell_type": "markdown",
   "metadata": {},
   "source": [
    "On the histogram it's possible to see that out of the 10000 values generated, the breakdown betweem 0.0 and 1 has been broken into 10's (0.0, 0.1, 0.2, 0.3 etc) and there random numbers generated within these subsets is \"roughly\" the same. The values are all near 1000 so it shows that there was a relatively even spread of random numbers selected between 0.0 and 1.0. "
   ]
  },
  {
   "cell_type": "markdown",
   "metadata": {},
   "source": [
    "## Permutations"
   ]
  },
  {
   "cell_type": "markdown",
   "metadata": {},
   "source": [
    "In mathematics and statistics, a permutation is an arrangement of the members of a non-empty set. This is different to a combination which focuses on the selection of objects without regard to the order in which they are selected. In numpy.random there are two permutation functions that allow for a distinct set of numbers to be generated in permutations. These are the Permutation Function and the Shuffle Function."
   ]
  },
  {
   "cell_type": "markdown",
   "metadata": {},
   "source": [
    "#### Permutation Function\n",
    "This function allows a sequence of numbers to be generated in no specific order"
   ]
  },
  {
   "cell_type": "code",
   "execution_count": 9,
   "metadata": {},
   "outputs": [
    {
     "data": {
      "text/plain": [
       "array([8, 7, 0, 6, 2, 4, 9, 1, 3, 5])"
      ]
     },
     "execution_count": 9,
     "metadata": {},
     "output_type": "execute_result"
    }
   ],
   "source": [
    "np.random.permutation(10)"
   ]
  },
  {
   "cell_type": "markdown",
   "metadata": {},
   "source": [
    "It's also possible to break the sequence of numbers into seperate sets."
   ]
  },
  {
   "cell_type": "code",
   "execution_count": 19,
   "metadata": {},
   "outputs": [
    {
     "data": {
      "text/plain": [
       "array([[ 0,  1,  2],\n",
       "       [ 6,  7,  8],\n",
       "       [ 3,  4,  5],\n",
       "       [ 9, 10, 11]])"
      ]
     },
     "execution_count": 19,
     "metadata": {},
     "output_type": "execute_result"
    }
   ],
   "source": [
    "arr = np.arange(12).reshape((4, 3))\n",
    "np.random.permutation(arr)"
   ]
  },
  {
   "cell_type": "markdown",
   "metadata": {},
   "source": [
    "It's also possible to provide a specific set of numbers which can be returned in a permutated range."
   ]
  },
  {
   "cell_type": "code",
   "execution_count": 75,
   "metadata": {},
   "outputs": [
    {
     "data": {
      "text/plain": [
       "array([ 8, 11,  5, 15,  1])"
      ]
     },
     "execution_count": 75,
     "metadata": {},
     "output_type": "execute_result"
    }
   ],
   "source": [
    "np.random.permutation([1, 5, 8, 11, 15 ])"
   ]
  },
  {
   "cell_type": "markdown",
   "metadata": {},
   "source": [
    "#### Shuffle Function\n",
    "This function when used like this is very similar to the permutations function."
   ]
  },
  {
   "cell_type": "code",
   "execution_count": 35,
   "metadata": {},
   "outputs": [
    {
     "data": {
      "text/plain": [
       "array([2, 4, 6, 0, 7, 8, 1, 5, 3, 9])"
      ]
     },
     "execution_count": 35,
     "metadata": {},
     "output_type": "execute_result"
    }
   ],
   "source": [
    "arr = np.arange(10)\n",
    "np.random.shuffle(arr)\n",
    "arr"
   ]
  },
  {
   "cell_type": "markdown",
   "metadata": {},
   "source": [
    "With multi-dimensional arrays,these are only shuffled along the first axis so it is the array rows that are shuffled but not the numbers in each set."
   ]
  },
  {
   "cell_type": "code",
   "execution_count": 73,
   "metadata": {},
   "outputs": [
    {
     "data": {
      "text/plain": [
       "array([[0, 1, 2],\n",
       "       [6, 7, 8],\n",
       "       [3, 4, 5]])"
      ]
     },
     "execution_count": 73,
     "metadata": {},
     "output_type": "execute_result"
    }
   ],
   "source": [
    "arr = np.arange(9).reshape((3, 3))\n",
    "np.random.shuffle(arr)\n",
    "arr"
   ]
  },
  {
   "cell_type": "markdown",
   "metadata": {},
   "source": [
    "## Distributions"
   ]
  },
  {
   "cell_type": "markdown",
   "metadata": {},
   "source": [
    "The distribution of a statistical data set is a listing or function showing all the possible values of the data and how often they occur. When a distribution of categorial data is organized, it's possible to see the nuber or percentage in each group. In numpy there are multiple functions that allow data samples to be drawn from different types of distributions. I will take a closer look at five of these different Distribution Functions. "
   ]
  },
  {
   "cell_type": "markdown",
   "metadata": {},
   "source": [
    "#### The Binomial Distribution\n",
    "In statistics, the binomial distribution is a frequency distribution of the possible number of successful outcomes in a given number of trials in each of which there is the same probability of success.  "
   ]
  },
  {
   "cell_type": "code",
   "execution_count": null,
   "metadata": {},
   "outputs": [],
   "source": []
  }
 ],
 "metadata": {
  "kernelspec": {
   "display_name": "Python 3",
   "language": "python",
   "name": "python3"
  },
  "language_info": {
   "codemirror_mode": {
    "name": "ipython",
    "version": 3
   },
   "file_extension": ".py",
   "mimetype": "text/x-python",
   "name": "python",
   "nbconvert_exporter": "python",
   "pygments_lexer": "ipython3",
   "version": "3.6.5"
  }
 },
 "nbformat": 4,
 "nbformat_minor": 2
}
