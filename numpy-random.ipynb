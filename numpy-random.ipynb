{
 "cells": [
  {
   "cell_type": "markdown",
   "metadata": {},
   "source": [
    "# The numpy-random package"
   ]
  },
  {
   "cell_type": "markdown",
   "metadata": {},
   "source": [
    "![title](images/python-numpy-logo.png)"
   ]
  },
  {
   "cell_type": "markdown",
   "metadata": {},
   "source": [
    "In this assignment I will be looking at the numpy.random package. I hope to:\n",
    "\n",
    "1) Explain the overall purpose of the package.\n",
    "\n",
    "2) Explain the use of the \"Simple random data\" and \"Permutations\" functions.\n",
    "\n",
    "3) Explain the use and purpose of at least five \"Distributions\" functions.\n",
    "\n",
    "4) Explain the use of seeds in generating pseudorandom numbers."
   ]
  },
  {
   "cell_type": "markdown",
   "metadata": {},
   "source": [
    "## What is the NumPy Random Package?"
   ]
  },
  {
   "cell_type": "markdown",
   "metadata": {},
   "source": [
    "NumPy is the fundamental package for scientific computing in Python. The name is an acronym for \"Numeric Python\" It is a library that provides a multidimensional array object, various derived objects and an assortment of routines for fast operations on arrays, including mathematical, logical, shape manipulation, sorting, selecting, I/O, discrete Fournier transforms, basic linear algebra, basic statistical operations, random simulation and much more.\n",
    "\n",
    "The NumPy.Random package is a package within the overall Numpy package.It's unsually used in conjunction with other Python packages.  This package allows for generating random data that can be analysed. This package contains numerous functions that fall under four seperate headings, random sampling, pemutations, distributions and random generator. I will be looking into these further in this assignment."
   ]
  },
  {
   "cell_type": "code",
   "execution_count": 4,
   "metadata": {},
   "outputs": [],
   "source": [
    "# Need to import the numpy package and matplotlib to investihgate the functions.\n",
    "import numpy as np\n",
    "import matplotlib.pyplot as plt\n",
    "%matplotlib inline\n",
    "import seaborn as sns\n",
    "sns.set(color_codes=True) # settings for seaborn plotting style\n",
    "sns.set(rc={'figure.figsize':(4.5,3)}) # settings for seaborn plot sizes"
   ]
  },
  {
   "cell_type": "markdown",
   "metadata": {},
   "source": [
    "## Simple Random Sampling"
   ]
  },
  {
   "cell_type": "markdown",
   "metadata": {},
   "source": [
    "The simple random data function in the numpy.random package provides a number of different functions that allow for pseudorandom random data to be generated. A look at the main Rand function:"
   ]
  },
  {
   "cell_type": "markdown",
   "metadata": {},
   "source": [
    "#### Rand Function\n",
    "This function generates random numbers between 0 and 1 but not including 1."
   ]
  },
  {
   "cell_type": "code",
   "execution_count": 5,
   "metadata": {},
   "outputs": [
    {
     "data": {
      "text/plain": [
       "0.6937509768040547"
      ]
     },
     "execution_count": 5,
     "metadata": {},
     "output_type": "execute_result"
    }
   ],
   "source": [
    "np.random.rand() "
   ]
  },
  {
   "cell_type": "markdown",
   "metadata": {},
   "source": [
    "It's also possible to generate more than one random number at a time by adding any additional number of rows and columns."
   ]
  },
  {
   "cell_type": "code",
   "execution_count": 6,
   "metadata": {},
   "outputs": [
    {
     "data": {
      "text/plain": [
       "array([[0.23605459, 0.65386149, 0.25500965, 0.82297171, 0.49020251,\n",
       "        0.14537081, 0.59850077, 0.79523331, 0.08321766, 0.04135184],\n",
       "       [0.99957113, 0.80527986, 0.25451303, 0.33329847, 0.0519893 ,\n",
       "        0.29413758, 0.98426639, 0.60787292, 0.97647908, 0.15915009],\n",
       "       [0.58127565, 0.15181501, 0.77139717, 0.07807633, 0.67297622,\n",
       "        0.20323701, 0.83791787, 0.40568487, 0.53385419, 0.43490375],\n",
       "       [0.96040763, 0.1272255 , 0.50113786, 0.83118951, 0.65910802,\n",
       "        0.63445356, 0.05455667, 0.78983552, 0.62824185, 0.11385672],\n",
       "       [0.83535823, 0.09388075, 0.02940041, 0.39237872, 0.37410504,\n",
       "        0.06231395, 0.40268236, 0.66163315, 0.74494838, 0.72174559]])"
      ]
     },
     "execution_count": 6,
     "metadata": {},
     "output_type": "execute_result"
    }
   ],
   "source": [
    "np.random.rand(5,10) "
   ]
  },
  {
   "cell_type": "markdown",
   "metadata": {},
   "source": [
    "It's also possible to go further and add new arrays."
   ]
  },
  {
   "cell_type": "code",
   "execution_count": 7,
   "metadata": {},
   "outputs": [
    {
     "data": {
      "text/plain": [
       "array([[[0.3317811 , 0.88974587, 0.84122324, 0.2713348 , 0.79122649],\n",
       "        [0.13246125, 0.84886843, 0.35448725, 0.19436589, 0.12706513],\n",
       "        [0.29624405, 0.90008499, 0.82159824, 0.02145438, 0.23599793],\n",
       "        [0.72223478, 0.17799114, 0.30395072, 0.82235343, 0.78760146]],\n",
       "\n",
       "       [[0.60425549, 0.08950739, 0.55163017, 0.2091937 , 0.19724605],\n",
       "        [0.42948894, 0.59411041, 0.84611972, 0.94730847, 0.91790526],\n",
       "        [0.23847819, 0.18140345, 0.49418759, 0.77476281, 0.62744815],\n",
       "        [0.58613621, 0.1302526 , 0.51229894, 0.35647548, 0.606708  ]],\n",
       "\n",
       "       [[0.99752229, 0.65511255, 0.30852957, 0.93940704, 0.78848636],\n",
       "        [0.5356981 , 0.9924795 , 0.09070533, 0.42944836, 0.77349368],\n",
       "        [0.77467165, 0.55503857, 0.92026181, 0.18645852, 0.45477423],\n",
       "        [0.24511847, 0.83576329, 0.99425579, 0.69473154, 0.14778107]]])"
      ]
     },
     "execution_count": 7,
     "metadata": {},
     "output_type": "execute_result"
    }
   ],
   "source": [
    "np.random.rand(3, 4, 5)"
   ]
  },
  {
   "cell_type": "markdown",
   "metadata": {},
   "source": [
    "Plotting a histogram to have a closer look at these randomly generated numbers where numpy will take all of the random values generated and plot them accordingly."
   ]
  },
  {
   "cell_type": "code",
   "execution_count": 8,
   "metadata": {},
   "outputs": [
    {
     "data": {
      "text/plain": [
       "(array([ 973.,  988., 1069., 1034.,  986., 1013.,  940., 1010.,  976.,\n",
       "        1011.]),\n",
       " array([9.77990697e-06, 1.00005789e-01, 2.00001798e-01, 2.99997808e-01,\n",
       "        3.99993817e-01, 4.99989826e-01, 5.99985835e-01, 6.99981845e-01,\n",
       "        7.99977854e-01, 8.99973863e-01, 9.99969872e-01]),\n",
       " <a list of 10 Patch objects>)"
      ]
     },
     "execution_count": 8,
     "metadata": {},
     "output_type": "execute_result"
    },
    {
     "data": {
      "image/png": "[encoded data removed]",
      "text/plain": [
       "<Figure size 324x216 with 1 Axes>"
      ]
     },
     "metadata": {},
     "output_type": "display_data"
    }
   ],
   "source": [
    "x = np.random.rand (10000)\n",
    "plt.hist(x)"
   ]
  },
  {
   "cell_type": "markdown",
   "metadata": {},
   "source": [
    "On the histogram it's possible to see that out of the 10000 values generated, the breakdown betweem 0.0 and 1 has been broken into 10's (0.0, 0.1, 0.2, 0.3 etc) and there random numbers generated within these subsets is \"roughly\" the same. The values are all near 1000 so it shows that there was a relatively even spread of random numbers selected between 0.0 and 1.0. "
   ]
  },
  {
   "cell_type": "markdown",
   "metadata": {},
   "source": [
    "## Permutations"
   ]
  },
  {
   "cell_type": "markdown",
   "metadata": {},
   "source": [
    "In mathematics and statistics, a permutation is an arrangement of the members of a non-empty set. This is different to a combination which focuses on the selection of objects without regard to the order in which they are selected. In numpy.random there are two permutation functions that allow for a distinct set of numbers to be generated in permutations. These are the Permutation Function and the Shuffle Function."
   ]
  },
  {
   "cell_type": "markdown",
   "metadata": {},
   "source": [
    "#### Permutation Function\n",
    "This function allows a sequence of numbers to be generated in no specific order"
   ]
  },
  {
   "cell_type": "code",
   "execution_count": 9,
   "metadata": {},
   "outputs": [
    {
     "data": {
      "text/plain": [
       "array([8, 9, 6, 3, 2, 5, 7, 1, 4, 0])"
      ]
     },
     "execution_count": 9,
     "metadata": {},
     "output_type": "execute_result"
    }
   ],
   "source": [
    "np.random.permutation(10)"
   ]
  },
  {
   "cell_type": "markdown",
   "metadata": {},
   "source": [
    "It's also possible to break the sequence of numbers into seperate sets."
   ]
  },
  {
   "cell_type": "code",
   "execution_count": 10,
   "metadata": {},
   "outputs": [
    {
     "data": {
      "text/plain": [
       "array([[ 0,  1,  2],\n",
       "       [ 6,  7,  8],\n",
       "       [ 3,  4,  5],\n",
       "       [ 9, 10, 11]])"
      ]
     },
     "execution_count": 10,
     "metadata": {},
     "output_type": "execute_result"
    }
   ],
   "source": [
    "arr = np.arange(12).reshape((4, 3))\n",
    "np.random.permutation(arr)"
   ]
  },
  {
   "cell_type": "markdown",
   "metadata": {},
   "source": [
    "It's also possible to provide a specific set of numbers which can be returned in a permutated range."
   ]
  },
  {
   "cell_type": "code",
   "execution_count": 11,
   "metadata": {},
   "outputs": [
    {
     "data": {
      "text/plain": [
       "array([ 8,  1, 11, 15,  5])"
      ]
     },
     "execution_count": 11,
     "metadata": {},
     "output_type": "execute_result"
    }
   ],
   "source": [
    "np.random.permutation([1, 5, 8, 11, 15 ])"
   ]
  },
  {
   "cell_type": "markdown",
   "metadata": {},
   "source": [
    "#### Shuffle Function\n",
    "This function when used like this is very similar to the permutations function."
   ]
  },
  {
   "cell_type": "code",
   "execution_count": 12,
   "metadata": {},
   "outputs": [
    {
     "data": {
      "text/plain": [
       "array([9, 6, 3, 0, 1, 5, 4, 7, 8, 2])"
      ]
     },
     "execution_count": 12,
     "metadata": {},
     "output_type": "execute_result"
    }
   ],
   "source": [
    "arr = np.arange(10)\n",
    "np.random.shuffle(arr)\n",
    "arr"
   ]
  },
  {
   "cell_type": "markdown",
   "metadata": {},
   "source": [
    "With multi-dimensional arrays,these are only shuffled along the first axis so it is the array rows that are shuffled but not the numbers in each set."
   ]
  },
  {
   "cell_type": "code",
   "execution_count": 13,
   "metadata": {},
   "outputs": [
    {
     "data": {
      "text/plain": [
       "array([[6, 7, 8],\n",
       "       [0, 1, 2],\n",
       "       [3, 4, 5]])"
      ]
     },
     "execution_count": 13,
     "metadata": {},
     "output_type": "execute_result"
    }
   ],
   "source": [
    "arr = np.arange(9).reshape((3, 3))\n",
    "np.random.shuffle(arr)\n",
    "arr"
   ]
  },
  {
   "cell_type": "markdown",
   "metadata": {},
   "source": [
    "## Distributions"
   ]
  },
  {
   "cell_type": "markdown",
   "metadata": {},
   "source": [
    "The distribution of a statistical data set is a listing or function showing all the possible values of the data and how often they occur. When a distribution of categorial data is organized, it's possible to see the number or percentage in each group. In numpy there are multiple functions that allow data samples to be drawn from different types of distributions. I will take a closer look at five of these different Distribution Functions. "
   ]
  },
  {
   "cell_type": "markdown",
   "metadata": {},
   "source": [
    "#### Binomial Distribution\n",
    "In statistics, the binomial distribution is a frequency distribution of the possible number of successful outcomes in a given number of trials in each of which there is the same probability of success. The criteria for a binomial distribution are:\n",
    "\n",
    "1) The experiment consists of \"n\" repeated trials.\n",
    "\n",
    "2) Each trial can only result in two possible outcomes, a \"success\" or a \"failure\".\n",
    "\n",
    "3) The probability of success, denoted by \"p\", is the same on every trial.\n",
    "\n",
    "4) The trials are interdependent where the outcome of one trial does not affect the outcome of the other trials.\n",
    "\n",
    "The best example of a binomial distribution is a simple coin flip experiment.\n",
    "\n",
    "A coin is flipped 10(n) times.\n",
    "Each flip can result only in two possible outcomes, heads or tails. Lets say heads = success and tails = failure\n",
    "The probability of success (heads) is constant - 0.5(p) on every trial.\n",
    "Each flip has no impact on the previous flip.\n",
    "\n",
    "Let's have a look using the np.random.bionomial function:"
   ]
  },
  {
   "cell_type": "code",
   "execution_count": 12,
   "metadata": {},
   "outputs": [
    {
     "data": {
      "image/png": "[encoded data removed]",
      "text/plain": [
       "<Figure size 432x288 with 1 Axes>"
      ]
     },
     "metadata": {},
     "output_type": "display_data"
    }
   ],
   "source": [
    "n, p = 11, .5  # number of trials, probability of each trial\n",
    "s = np.random.binomial(n, p, 100) # s is the number of times the coin lands showing heads (success)\n",
    "plt.hist(s)\n",
    "plt.show()\n",
    "# result of flipping a coin 10 times (and if this trial of 10 flips was conducted 100 times)"
   ]
  },
  {
   "cell_type": "markdown",
   "metadata": {},
   "source": [
    "#### Looking at binomial distribution in a nicer graph available online see references"
   ]
  },
  {
   "cell_type": "code",
   "execution_count": 53,
   "metadata": {},
   "outputs": [
    {
     "name": "stderr",
     "output_type": "stream",
     "text": [
      "C:\\Users\\I304302\\AppData\\Local\\Continuum\\anaconda3\\lib\\site-packages\\matplotlib\\axes\\_axes.py:6462: UserWarning: The 'normed' kwarg is deprecated, and has been replaced by the 'density' kwarg.\n",
      "  warnings.warn(\"The 'normed' kwarg is deprecated, and has been \"\n"
     ]
    },
    {
     "data": {
      "text/plain": [
       "[Text(0,0.5,'Frequency'), Text(0.5,0,'Binomial')]"
      ]
     },
     "execution_count": 53,
     "metadata": {},
     "output_type": "execute_result"
    },
    {
     "data": {
      "image/png": "[encoded data removed]",
      "text/plain": [
       "<Figure size 324x216 with 1 Axes>"
      ]
     },
     "metadata": {},
     "output_type": "display_data"
    }
   ],
   "source": [
    "from scipy.stats import binom # import binom module from scipy.stats to generate random variables \n",
    "binom.rvs(n=10,p=0.5) # as with the coin example lets look at the number of success from 10 trials with a 0.5 probability of success\n",
    "data_binom = binom.rvs(n=10,p=0.5,size=1000) # use binom.rvs to repeat the trials with size arguement so 1000 times the trails are repeated\n",
    "ax = sns.distplot(data_binom,\n",
    "                  kde=False,\n",
    "                  color='skyblue',\n",
    "                  hist_kws={\"linewidth\": 15,'alpha':1})\n",
    "ax.set(xlabel='Binomial', ylabel='Frequency')"
   ]
  },
  {
   "cell_type": "markdown",
   "metadata": {},
   "source": [
    "We can see the graph produces similar results to the example, if a coin is flipped 10 times there is more of a chance that the probability of success \"landing on heads\" will be closer to the central probability chance of 5 in 10 then on the outer findges of a 9 in 10 or 1 in 10 chance of success as indicated in the graph. In actual fact it is clear to see that the outcome of 5 heads and 5 tails in 10 flips occured in the higest number of trials about 260 times. We can also see a similar structure to the first graph I drafted."
   ]
  },
  {
   "cell_type": "markdown",
   "metadata": {},
   "source": [
    "#### Uniform Distribution\n",
    "\n",
    "In statistics, uniform distribution also known as rectangle distribution, is a type of probability in which all outcomes are equally likely, where each variable has the same probability that it will be the outcome. There are two types of uniform distribution, discrete and continuous. \n",
    "\n",
    "The possible result of rolling a die is an example of discrete uniform distribution. It's posssible to roll a 1,2,3,4,5,6 so a roll of the die generates a discrete distribution with  a probability (p)= 1/6 for each outcome. A uniform distribution with only two possible outcomes is a special case of the binomial distribution which was discussed above.\n",
    "\n",
    "A variable X is said to be uniformly distributed if the density function is f(x) = 1/(b-a) where a and b are the parameters.\n",
    "\n",
    "Lets have a look using the np.random.uniform function:"
   ]
  },
  {
   "cell_type": "code",
   "execution_count": 13,
   "metadata": {},
   "outputs": [
    {
     "data": {
      "image/png": "[encoded data removed]",
      "text/plain": [
       "<Figure size 432x288 with 1 Axes>"
      ]
     },
     "metadata": {},
     "output_type": "display_data"
    }
   ],
   "source": [
    "s = np.random.uniform(1,7,1000)\n",
    "np.all(s >= 1)\n",
    "np.all(s < 7)\n",
    "count, bins, ignored = plt.hist(s, 15, density=True)\n",
    "plt.plot(bins, np.ones_like(bins))\n",
    "plt.show()"
   ]
  },
  {
   "cell_type": "markdown",
   "metadata": {},
   "source": [
    "#### Looking at uniform distribution in a nicer graph available online see references"
   ]
  },
  {
   "cell_type": "code",
   "execution_count": 135,
   "metadata": {},
   "outputs": [
    {
     "name": "stderr",
     "output_type": "stream",
     "text": [
      "C:\\Users\\I304302\\AppData\\Local\\Continuum\\anaconda3\\lib\\site-packages\\matplotlib\\axes\\_axes.py:6462: UserWarning: The 'normed' kwarg is deprecated, and has been replaced by the 'density' kwarg.\n",
      "  warnings.warn(\"The 'normed' kwarg is deprecated, and has been \"\n"
     ]
    },
    {
     "data": {
      "text/plain": [
       "[Text(0,0.5,'Frequency'), Text(0.5,0,'Uniform ')]"
      ]
     },
     "execution_count": 135,
     "metadata": {},
     "output_type": "execute_result"
    },
    {
     "data": {
      "image/png": "[encoded data removed]",
      "text/plain": [
       "<Figure size 324x216 with 1 Axes>"
      ]
     },
     "metadata": {},
     "output_type": "display_data"
    }
   ],
   "source": [
    "from scipy.stats import uniform   # import uniform distribution module\n",
    "n = 10000                         # random numbers from uniform distribution\n",
    "a = 0                             # Generate  numbers from 0 to 10\n",
    "b = 10\n",
    "data_uniform = uniform.rvs(size=n, loc = a, scale=b)\n",
    "ax = sns.distplot(data_uniform,\n",
    "                  bins=100,\n",
    "                  kde=False,\n",
    "                  color='skyblue',\n",
    "                  hist_kws={\"linewidth\": 15,'alpha':1})\n",
    "ax.set(xlabel='Uniform ', ylabel='Frequency')"
   ]
  },
  {
   "cell_type": "markdown",
   "metadata": {},
   "source": [
    "The np.random.uniform function is very similar to the np.random.rand function the main difference being that the random.uniform fumction will return values of any interger.\n",
    "\n",
    "As a side note, I was looking to use the np.random.uniform function to demonstrate an example of the rolling dice game. The above plot is not exactly what I was trying to accomplish looking at the numpy tutorial. What I was trying to show the red line representing the equal probability of all numbers of a dice being rolled. Out of the 1000 rolls, the hits between the 6 sides of the dice are similiar giving the rectangular shape to the graph I drafted.\n",
    "\n",
    "The second graph also indicates this type of uniform relationship."
   ]
  },
  {
   "cell_type": "markdown",
   "metadata": {},
   "source": [
    "#### Normal Distribution\n",
    "\n",
    "Normal distribution, sometimes referred to as the Gaussian distribution or bell curve, is a distribution that occurs naturally in many situations. An example of this would be if a class of students completed an exam, the bulk of students will score a C, while a smaller numbers of students will score a B or a D and an even smaller percentage again will score an A or an F. This creates a distribution that represents a bell where half of the data will fall to the left of the mean and half of the data will fall to the right.\n",
    "\n",
    "The properties of a normal distribution aee:\n",
    "\n",
    "1) The mean, mode and median are all equal.\n",
    "\n",
    "2) The curve is symmetric at the centre, i.e. around the mean.\n",
    "\n",
    "3) Exactly half of the values are to the left of the centre and half of the values are to the right.\n",
    "\n",
    "4) The total area under the curve is one.\n",
    "\n",
    "Lets have a look at the np.random.normal function:"
   ]
  },
  {
   "cell_type": "code",
   "execution_count": 32,
   "metadata": {},
   "outputs": [
    {
     "data": {
      "text/plain": [
       "<function matplotlib.pyplot.show(*args, **kw)>"
      ]
     },
     "execution_count": 32,
     "metadata": {},
     "output_type": "execute_result"
    },
    {
     "data": {
      "image/png": "[encoded data removed]",
      "text/plain": [
       "<Figure size 432x288 with 1 Axes>"
      ]
     },
     "metadata": {},
     "output_type": "display_data"
    }
   ],
   "source": [
    "mu, sigma = 0, 1                       # mean and standard deviation\n",
    "s = np.random.normal(mu, sigma, 1000)\n",
    "plt.hist(s)\n",
    "plt.show"
   ]
  },
  {
   "cell_type": "markdown",
   "metadata": {},
   "source": [
    "#### Lookin at normal distribution in a nicer graph available online see references"
   ]
  },
  {
   "cell_type": "code",
   "execution_count": 41,
   "metadata": {},
   "outputs": [
    {
     "name": "stderr",
     "output_type": "stream",
     "text": [
      "C:\\Users\\I304302\\AppData\\Local\\Continuum\\anaconda3\\lib\\site-packages\\matplotlib\\axes\\_axes.py:6462: UserWarning: The 'normed' kwarg is deprecated, and has been replaced by the 'density' kwarg.\n",
      "  warnings.warn(\"The 'normed' kwarg is deprecated, and has been \"\n"
     ]
    },
    {
     "data": {
      "text/plain": [
       "[Text(0,0.5,'Frequency'), Text(0.5,0,'Normal')]"
      ]
     },
     "execution_count": 41,
     "metadata": {},
     "output_type": "execute_result"
    },
    {
     "data": {
      "image/png": "[encoded data removed]",
      "text/plain": [
       "<Figure size 324x216 with 1 Axes>"
      ]
     },
     "metadata": {},
     "output_type": "display_data"
    }
   ],
   "source": [
    "from scipy.stats import norm # import norm module from scipy.stats to generate random variables\n",
    "data_normal = norm.rvs(size=10000,loc=0,scale=1) # generate random numbers from N(0,1). loc is the mean and scale is the standard deviation\n",
    "ax = sns.distplot(data_normal,\n",
    "                  bins=100,\n",
    "                  kde=False,\n",
    "                  color='skyblue',\n",
    "                  hist_kws={\"linewidth\": 15,'alpha':1})\n",
    "ax.set(xlabel='Normal', ylabel='Frequency')"
   ]
  },
  {
   "cell_type": "markdown",
   "metadata": {},
   "source": [
    "Looking at the first graph I drafted based on the example in the numpy documentation, if we tie it back to the example of a class of students getting exam results. If we assume the 0 = a score of C, 2 = a score of B and -2 = a score of D, we can see that the majority of students would fall into the middle of the graph, getting not too high of a score and not too low of a score, and then a much lower number of students falling in the outer fringes of the curve either scoring very low (on the left) or very high (on the right). The second graph also shows how this type of distribution results in a bell shaped when graphed."
   ]
  },
  {
   "cell_type": "code",
   "execution_count": null,
   "metadata": {},
   "outputs": [],
   "source": []
  }
 ],
 "metadata": {
  "kernelspec": {
   "display_name": "Python 3",
   "language": "python",
   "name": "python3"
  },
  "language_info": {
   "codemirror_mode": {
    "name": "ipython",
    "version": 3
   },
   "file_extension": ".py",
   "mimetype": "text/x-python",
   "name": "python",
   "nbconvert_exporter": "python",
   "pygments_lexer": "ipython3",
   "version": "3.6.5"
  }
 },
 "nbformat": 4,
 "nbformat_minor": 2
}
