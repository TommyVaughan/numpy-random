{
 "cells": [
  {
   "cell_type": "markdown",
   "metadata": {},
   "source": [
    "# The numpy-random package"
   ]
  },
  {
   "cell_type": "markdown",
   "metadata": {},
   "source": [
    "![title](images/python-numpy-logo.png)"
   ]
  },
  {
   "cell_type": "markdown",
   "metadata": {},
   "source": [
    "In this assignment I will be looking at the numpy.random package. I hope to:\n",
    "\n",
    "1) Explain the overall purpose of the package.\n",
    "\n",
    "2) Explain the use of the \"Simple random data\" and \"Permutations\" functions.\n",
    "\n",
    "3) Explain the use and purpose of at least five \"Distributions\" functions.\n",
    "\n",
    "4) Explain the use of seeds in generating pseudorandom numbers."
   ]
  },
  {
   "cell_type": "markdown",
   "metadata": {},
   "source": [
    "## What is the NumPy Random Package?"
   ]
  },
  {
   "cell_type": "markdown",
   "metadata": {},
   "source": [
    "NumPy is the fundamental package for scientific computing in Python. The name is an acronym for \"Numeric Python\" It is a library that provides a multidimensional array object, various derived objects and an assortment of routines for fast operations on arrays, including mathematical, logical, shape manipulation, sorting, selecting, I/O, discrete Fournier transforms, basic linear algebra, basic statistical operations, random simulation and much more.\n",
    "\n",
    "The NumPy.Random package is a package within the overall Numpy package.It's unsually used in conjunction with other Python packages.  This package allows for generating random data that can be analysed. This package contains numerous functions that fal under four seperate headings, random sampling, pemutations, distributions and random generator. I will be looking into these further in this assignment."
   ]
  },
  {
   "cell_type": "code",
   "execution_count": 15,
   "metadata": {},
   "outputs": [],
   "source": [
    "# Need to import the numpy package and matplotlib to investihgate the functions.\n",
    "import numpy as np\n",
    "import matplotlib.pyplot as plt"
   ]
  },
  {
   "cell_type": "markdown",
   "metadata": {},
   "source": [
    "## Simple Random Sampling"
   ]
  },
  {
   "cell_type": "markdown",
   "metadata": {},
   "source": [
    "The simple random data function in the numpy.random package provides a number of different functions that allow for pseudorandom random data to be generated. A llok at some of these functions:"
   ]
  },
  {
   "cell_type": "code",
   "execution_count": 16,
   "metadata": {},
   "outputs": [
    {
     "data": {
      "text/plain": [
       "0.9784035988257402"
      ]
     },
     "execution_count": 16,
     "metadata": {},
     "output_type": "execute_result"
    }
   ],
   "source": [
    "# Rand Function\n",
    "# This function generates random numbers between 0 and 1 but not including 1.\n",
    "np.random.rand() "
   ]
  },
  {
   "cell_type": "code",
   "execution_count": 14,
   "metadata": {},
   "outputs": [
    {
     "data": {
      "text/plain": [
       "array([[0.79094235, 0.9840643 , 0.84021389, 0.40137725, 0.3479568 ,\n",
       "        0.38515999, 0.218844  , 0.71723657, 0.57211568, 0.59961201],\n",
       "       [0.30304857, 0.24183364, 0.28535648, 0.49755278, 0.55328837,\n",
       "        0.93627036, 0.27258132, 0.05117081, 0.26977631, 0.68828387],\n",
       "       [0.91939359, 0.71170055, 0.14516016, 0.87308582, 0.0939023 ,\n",
       "        0.5925064 , 0.58387684, 0.48458795, 0.68351124, 0.85005528],\n",
       "       [0.42042522, 0.37547147, 0.89373579, 0.64489306, 0.75818186,\n",
       "        0.91756367, 0.90858112, 0.07798347, 0.06988137, 0.86889379],\n",
       "       [0.93699281, 0.92846352, 0.77208471, 0.60263563, 0.84725494,\n",
       "        0.75802287, 0.92086166, 0.42944637, 0.37545249, 0.14998911]])"
      ]
     },
     "execution_count": 14,
     "metadata": {},
     "output_type": "execute_result"
    }
   ],
   "source": [
    "# It's also possible to generate more than one random number at a time by adding any additional number of rows and columns.\n",
    "np.random.rand(5,10) "
   ]
  },
  {
   "cell_type": "code",
   "execution_count": 13,
   "metadata": {},
   "outputs": [
    {
     "data": {
      "text/plain": [
       "array([[[0.93877746, 0.54576615, 0.81903191, 0.28129808, 0.46885362],\n",
       "        [0.83120206, 0.74439758, 0.91639125, 0.40172236, 0.60629409],\n",
       "        [0.95995118, 0.40272913, 0.04176788, 0.78293728, 0.22546269],\n",
       "        [0.00698464, 0.26196017, 0.60841906, 0.7345669 , 0.84462809]],\n",
       "\n",
       "       [[0.55672794, 0.63762555, 0.95968337, 0.19896355, 0.46317696],\n",
       "        [0.57382744, 0.75654085, 0.3072926 , 0.11439364, 0.90910087],\n",
       "        [0.19515988, 0.07560022, 0.68662649, 0.96714694, 0.77909866],\n",
       "        [0.31396774, 0.50463831, 0.31132077, 0.69617841, 0.1535952 ]],\n",
       "\n",
       "       [[0.6698667 , 0.42121741, 0.13210439, 0.23649392, 0.26920262],\n",
       "        [0.37200749, 0.04607466, 0.99294926, 0.36524902, 0.74837855],\n",
       "        [0.0955621 , 0.77088661, 0.23944566, 0.66780295, 0.59989705],\n",
       "        [0.97111725, 0.25845505, 0.29312756, 0.09559518, 0.23445384]]])"
      ]
     },
     "execution_count": 13,
     "metadata": {},
     "output_type": "execute_result"
    }
   ],
   "source": [
    "# It's also possiblee to go further and add new arrays.\n",
    "np.random.rand(3, 4, 5)"
   ]
  },
  {
   "cell_type": "code",
   "execution_count": 17,
   "metadata": {},
   "outputs": [
    {
     "data": {
      "text/plain": [
       "(array([1014., 1026.,  967.,  992., 1033.,  993., 1001.,  995.,  968.,\n",
       "        1011.]),\n",
       " array([1.11984617e-04, 1.00063764e-01, 2.00015543e-01, 2.99967323e-01,\n",
       "        3.99919102e-01, 4.99870881e-01, 5.99822660e-01, 6.99774440e-01,\n",
       "        7.99726219e-01, 8.99677998e-01, 9.99629778e-01]),\n",
       " <a list of 10 Patch objects>)"
      ]
     },
     "execution_count": 17,
     "metadata": {},
     "output_type": "execute_result"
    },
    {
     "data": {
      "image/png": "[encoded data removed]",
      "text/plain": [
       "<Figure size 432x288 with 1 Axes>"
      ]
     },
     "metadata": {},
     "output_type": "display_data"
    }
   ],
   "source": [
    "# It's possible to plot a histogram where numpy will take all of the random values generated and plot them accordingly.\n",
    "x = np.random.rand (10000)\n",
    "plt.hist(x)"
   ]
  },
  {
   "cell_type": "markdown",
   "metadata": {},
   "source": [
    "On the histogram it's possible to see that out of the 10000 values generated, the breakdown betweem 0.0 and 1 has been broken into 10's (0.0, 0.1, 0.2, 0.3 etc) and there random numbers generated within these subsets is \"roughly\" the same. The values are all near 1000 so it shows that there was a relatively even spread of random numbers selected between 0.0 and 1.0."
   ]
  },
  {
   "cell_type": "code",
   "execution_count": null,
   "metadata": {},
   "outputs": [],
   "source": []
  }
 ],
 "metadata": {
  "kernelspec": {
   "display_name": "Python 3",
   "language": "python",
   "name": "python3"
  },
  "language_info": {
   "codemirror_mode": {
    "name": "ipython",
    "version": 3
   },
   "file_extension": ".py",
   "mimetype": "text/x-python",
   "name": "python",
   "nbconvert_exporter": "python",
   "pygments_lexer": "ipython3",
   "version": "3.6.5"
  }
 },
 "nbformat": 4,
 "nbformat_minor": 2
}
