{
 "cells": [
  {
   "cell_type": "markdown",
   "metadata": {},
   "source": [
    "# The numpy-random package"
   ]
  },
  {
   "cell_type": "markdown",
   "metadata": {},
   "source": [
    "![title](images/python-numpy-logo.png)"
   ]
  },
  {
   "cell_type": "markdown",
   "metadata": {},
   "source": [
    "In this assignment I will be looking at the numpy.random package. I hope to:\n",
    "\n",
    "1) Explain the overall purpose of the package.\n",
    "\n",
    "2) Explain the use of the \"Simple random data\" and \"Permutations\" functions.\n",
    "\n",
    "3) Explain the use and purpose of at least five \"Distributions\" functions.\n",
    "\n",
    "4) Explain the use of seeds in generating pseudorandom numbers."
   ]
  },
  {
   "cell_type": "markdown",
   "metadata": {},
   "source": [
    "## What is the NumPy Random Package?"
   ]
  },
  {
   "cell_type": "markdown",
   "metadata": {},
   "source": [
    "NumPy is the fundamental package for scientific computing in Python. The name is an acronym for \"Numeric Python\" It is a library that provides a multidimensional array object, various derived objects and an assortment of routines for fast operations on arrays, including mathematical, logical, shape manipulation, sorting, selecting, I/O, discrete Fournier transforms, basic linear algebra, basic statistical operations, random simulation and much more.\n",
    "\n",
    "The NumPy.Random package is a package within the overall Numpy package.It's unsually used in conjunction with other Python packages.  This package allows for generating random data that can be analysed. These numbers are "
   ]
  }
 ],
 "metadata": {
  "kernelspec": {
   "display_name": "Python 3",
   "language": "python",
   "name": "python3"
  },
  "language_info": {
   "codemirror_mode": {
    "name": "ipython",
    "version": 3
   },
   "file_extension": ".py",
   "mimetype": "text/x-python",
   "name": "python",
   "nbconvert_exporter": "python",
   "pygments_lexer": "ipython3",
   "version": "3.6.5"
  }
 },
 "nbformat": 4,
 "nbformat_minor": 2
}
