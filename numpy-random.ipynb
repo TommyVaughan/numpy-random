{
 "cells": [
  {
   "cell_type": "markdown",
   "metadata": {},
   "source": [
    "# The numpy-random package"
   ]
  },
  {
   "cell_type": "markdown",
   "metadata": {},
   "source": [
    "![title](images/python-numpy-logo.png)"
   ]
  },
  {
   "cell_type": "markdown",
   "metadata": {},
   "source": [
    "In this assignment I will be looking at the numpy.random package. I hope to:\n",
    "\n",
    "1) Explain the overall purpose of the package.\n",
    "\n",
    "2) Explain the use of the \"Simple random data\" and \"Permutations\" functions.\n",
    "\n",
    "3) Explain the use and purpose of at least five \"Distributions\" functions.\n",
    "\n",
    "4) Explain the use of seeds in generating pseudorandom numbers."
   ]
  },
  {
   "cell_type": "markdown",
   "metadata": {},
   "source": [
    "## What is the NumPy Random Package?"
   ]
  },
  {
   "cell_type": "markdown",
   "metadata": {},
   "source": [
    "NumPy is the fundamental package for scientific computing in Python. The name is an acronym for \"Numeric Python\" It is a library that provides a multidimensional array object, various derived objects and an assortment of routines for fast operations on arrays, including mathematical, logical, shape manipulation, sorting, selecting, I/O, discrete Fournier transforms, basic linear algebra, basic statistical operations, random simulation and much more.\n",
    "\n",
    "The NumPy.Random package is a package within the overall Numpy package.It's unsually used in conjunction with other Python packages.  This package allows for generating random data that can be analysed. This package contains numerous functions that fall under four seperate headings, random sampling, pemutations, distributions and random generator. I will be looking into these further in this assignment."
   ]
  },
  {
   "cell_type": "code",
   "execution_count": 42,
   "metadata": {},
   "outputs": [],
   "source": [
    "# Need to import the numpy package and matplotlib to investihgate the functions.\n",
    "import numpy as np\n",
    "import matplotlib.pyplot as plt\n",
    "%matplotlib inline\n",
    "import seaborn as sns\n",
    "sns.set(color_codes=True) # settings for seaborn plotting style\n",
    "sns.set(rc={'figure.figsize':(4.5,3)}) # settings for seaborn plot sizes"
   ]
  },
  {
   "cell_type": "markdown",
   "metadata": {},
   "source": [
    "## Simple Random Sampling"
   ]
  },
  {
   "cell_type": "markdown",
   "metadata": {},
   "source": [
    "The simple random data function in the numpy.random package provides a number of different functions that allow for pseudorandom random data to be generated. A look at the main Rand function:"
   ]
  },
  {
   "cell_type": "markdown",
   "metadata": {},
   "source": [
    "#### Rand Function\n",
    "This function generates random numbers between 0 and 1 but not including 1."
   ]
  },
  {
   "cell_type": "code",
   "execution_count": 29,
   "metadata": {},
   "outputs": [
    {
     "data": {
      "text/plain": [
       "0.4581258083219302"
      ]
     },
     "execution_count": 29,
     "metadata": {},
     "output_type": "execute_result"
    }
   ],
   "source": [
    "np.random.rand() "
   ]
  },
  {
   "cell_type": "markdown",
   "metadata": {},
   "source": [
    "It's also possible to generate more than one random number at a time by adding any additional number of rows and columns."
   ]
  },
  {
   "cell_type": "code",
   "execution_count": 30,
   "metadata": {},
   "outputs": [
    {
     "data": {
      "text/plain": [
       "array([[0.03106273, 0.0400049 , 0.60384791, 0.8914933 , 0.43839386,\n",
       "        0.9660813 , 0.90125597, 0.39485996, 0.72511727, 0.36717813],\n",
       "       [0.35046019, 0.54958127, 0.45646662, 0.7482691 , 0.09056251,\n",
       "        0.41043416, 0.76485259, 0.69870673, 0.5127558 , 0.2798189 ],\n",
       "       [0.59127977, 0.60860749, 0.41360962, 0.91525454, 0.65205102,\n",
       "        0.44101145, 0.76453903, 0.53624198, 0.96681341, 0.88380331],\n",
       "       [0.68055403, 0.73898738, 0.7652971 , 0.97291573, 0.9945965 ,\n",
       "        0.43348575, 0.91629598, 0.38454331, 0.12131596, 0.80827866],\n",
       "       [0.63035764, 0.49701941, 0.50333886, 0.65651236, 0.16788844,\n",
       "        0.22496556, 0.2062267 , 0.26010086, 0.96654483, 0.57832335]])"
      ]
     },
     "execution_count": 30,
     "metadata": {},
     "output_type": "execute_result"
    }
   ],
   "source": [
    "np.random.rand(5,10) "
   ]
  },
  {
   "cell_type": "markdown",
   "metadata": {},
   "source": [
    "It's also possible to go further and add new arrays."
   ]
  },
  {
   "cell_type": "code",
   "execution_count": 31,
   "metadata": {},
   "outputs": [
    {
     "data": {
      "text/plain": [
       "array([[[0.66012308, 0.0061572 , 0.24782519, 0.63152404, 0.54550895],\n",
       "        [0.20305428, 0.88265259, 0.59275766, 0.19310255, 0.49709537],\n",
       "        [0.06417522, 0.73112346, 0.8050625 , 0.64539198, 0.55834248],\n",
       "        [0.83743978, 0.36611349, 0.22246933, 0.5820451 , 0.11157182]],\n",
       "\n",
       "       [[0.26876098, 0.44612551, 0.65579622, 0.17419093, 0.63851441],\n",
       "        [0.50319859, 0.70569859, 0.12412376, 0.90861801, 0.91285063],\n",
       "        [0.82072788, 0.85574076, 0.04388647, 0.35565194, 0.01996257],\n",
       "        [0.81727229, 0.88710025, 0.02388839, 0.65404201, 0.56282863]],\n",
       "\n",
       "       [[0.39371522, 0.22335857, 0.0562717 , 0.36936998, 0.055366  ],\n",
       "        [0.17539482, 0.99011061, 0.09617374, 0.64520177, 0.22985321],\n",
       "        [0.50275851, 0.43733537, 0.54630439, 0.62161924, 0.05292323],\n",
       "        [0.7133366 , 0.06580034, 0.90274552, 0.92370057, 0.2281568 ]]])"
      ]
     },
     "execution_count": 31,
     "metadata": {},
     "output_type": "execute_result"
    }
   ],
   "source": [
    "np.random.rand(3, 4, 5)"
   ]
  },
  {
   "cell_type": "markdown",
   "metadata": {},
   "source": [
    "Plotting a histogram to have a closer look at these randomly generated numbers where numpy will take all of the random values generated and plot them accordingly."
   ]
  },
  {
   "cell_type": "code",
   "execution_count": 32,
   "metadata": {},
   "outputs": [
    {
     "data": {
      "text/plain": [
       "(array([1001.,  965.,  995., 1034., 1080., 1023.,  973.,  975.,  986.,\n",
       "         968.]),\n",
       " array([1.00470488e-04, 1.00083958e-01, 2.00067445e-01, 3.00050932e-01,\n",
       "        4.00034419e-01, 5.00017906e-01, 6.00001393e-01, 6.99984880e-01,\n",
       "        7.99968367e-01, 8.99951854e-01, 9.99935341e-01]),\n",
       " <a list of 10 Patch objects>)"
      ]
     },
     "execution_count": 32,
     "metadata": {},
     "output_type": "execute_result"
    },
    {
     "data": {
      "image/png": "[encoded data removed]",
      "text/plain": [
       "<Figure size 324x216 with 1 Axes>"
      ]
     },
     "metadata": {},
     "output_type": "display_data"
    }
   ],
   "source": [
    "x = np.random.rand (10000)\n",
    "plt.hist(x)"
   ]
  },
  {
   "cell_type": "markdown",
   "metadata": {},
   "source": [
    "On the histogram it's possible to see that out of the 10000 values generated, the breakdown betweem 0.0 and 1 has been broken into 10's (0.0, 0.1, 0.2, 0.3 etc) and there random numbers generated within these subsets is \"roughly\" the same. The values are all near 1000 so it shows that there was a relatively even spread of random numbers selected between 0.0 and 1.0. "
   ]
  },
  {
   "cell_type": "markdown",
   "metadata": {},
   "source": [
    "## Permutations"
   ]
  },
  {
   "cell_type": "markdown",
   "metadata": {},
   "source": [
    "In mathematics and statistics, a permutation is an arrangement of the members of a non-empty set. This is different to a combination which focuses on the selection of objects without regard to the order in which they are selected. In numpy.random there are two permutation functions that allow for a distinct set of numbers to be generated in permutations. These are the Permutation Function and the Shuffle Function."
   ]
  },
  {
   "cell_type": "markdown",
   "metadata": {},
   "source": [
    "#### Permutation Function\n",
    "This function allows a sequence of numbers to be generated in no specific order"
   ]
  },
  {
   "cell_type": "code",
   "execution_count": 33,
   "metadata": {},
   "outputs": [
    {
     "data": {
      "text/plain": [
       "array([9, 7, 1, 2, 6, 8, 4, 5, 0, 3])"
      ]
     },
     "execution_count": 33,
     "metadata": {},
     "output_type": "execute_result"
    }
   ],
   "source": [
    "np.random.permutation(10)"
   ]
  },
  {
   "cell_type": "markdown",
   "metadata": {},
   "source": [
    "It's also possible to break the sequence of numbers into seperate sets."
   ]
  },
  {
   "cell_type": "code",
   "execution_count": 34,
   "metadata": {},
   "outputs": [
    {
     "data": {
      "text/plain": [
       "array([[ 3,  4,  5],\n",
       "       [ 9, 10, 11],\n",
       "       [ 0,  1,  2],\n",
       "       [ 6,  7,  8]])"
      ]
     },
     "execution_count": 34,
     "metadata": {},
     "output_type": "execute_result"
    }
   ],
   "source": [
    "arr = np.arange(12).reshape((4, 3))\n",
    "np.random.permutation(arr)"
   ]
  },
  {
   "cell_type": "markdown",
   "metadata": {},
   "source": [
    "It's also possible to provide a specific set of numbers which can be returned in a permutated range."
   ]
  },
  {
   "cell_type": "code",
   "execution_count": 35,
   "metadata": {},
   "outputs": [
    {
     "data": {
      "text/plain": [
       "array([ 1, 15,  5, 11,  8])"
      ]
     },
     "execution_count": 35,
     "metadata": {},
     "output_type": "execute_result"
    }
   ],
   "source": [
    "np.random.permutation([1, 5, 8, 11, 15 ])"
   ]
  },
  {
   "cell_type": "markdown",
   "metadata": {},
   "source": [
    "#### Shuffle Function\n",
    "This function when used like this is very similar to the permutations function."
   ]
  },
  {
   "cell_type": "code",
   "execution_count": 36,
   "metadata": {},
   "outputs": [
    {
     "data": {
      "text/plain": [
       "array([4, 7, 2, 8, 3, 1, 5, 0, 6, 9])"
      ]
     },
     "execution_count": 36,
     "metadata": {},
     "output_type": "execute_result"
    }
   ],
   "source": [
    "arr = np.arange(10)\n",
    "np.random.shuffle(arr)\n",
    "arr"
   ]
  },
  {
   "cell_type": "markdown",
   "metadata": {},
   "source": [
    "With multi-dimensional arrays,these are only shuffled along the first axis so it is the array rows that are shuffled but not the numbers in each set."
   ]
  },
  {
   "cell_type": "code",
   "execution_count": 13,
   "metadata": {},
   "outputs": [
    {
     "data": {
      "text/plain": [
       "array([[3, 4, 5],\n",
       "       [6, 7, 8],\n",
       "       [0, 1, 2]])"
      ]
     },
     "execution_count": 13,
     "metadata": {},
     "output_type": "execute_result"
    }
   ],
   "source": [
    "arr = np.arange(9).reshape((3, 3))\n",
    "np.random.shuffle(arr)\n",
    "arr"
   ]
  },
  {
   "cell_type": "markdown",
   "metadata": {},
   "source": [
    "## Distributions"
   ]
  },
  {
   "cell_type": "markdown",
   "metadata": {},
   "source": [
    "The distribution of a statistical data set is a listing or function showing all the possible values of the data and how often they occur. When a distribution of categorial data is organized, it's possible to see the number or percentage in each group. In numpy there are multiple functions that allow data samples to be drawn from different types of distributions. I will take a closer look at five of these different Distribution Functions. "
   ]
  },
  {
   "cell_type": "markdown",
   "metadata": {},
   "source": [
    "#### Binomial Distribution\n",
    "In statistics, the binomial distribution is a frequency distribution of the possible number of successful outcomes in a given number of trials in each of which there is the same probability of success. The criteria for a binomial distribution are:\n",
    "\n",
    "1) The experiment consists of \"n\" repeated trials.\n",
    "\n",
    "2) Each trial can only result in two possible outcomes, a \"success\" or a \"failure\".\n",
    "\n",
    "3) The probability of success, denoted by \"p\", is the same on every trial.\n",
    "\n",
    "4) The trials are interdependent where the outcome of one trial does not affect the outcome of the other trials.\n",
    "\n",
    "The best example of a binomial distribution is a simple coin flip experiment.\n",
    "\n",
    "A coin is flipped 10(n) times.\n",
    "Each flip can result only in two possible outcomes, heads or tails. Lets say heads = success and tails = failure\n",
    "The probability of success (heads) is constant - 0.5(p) on every trial.\n",
    "Each flip has no impact on the previous flip.\n",
    "\n",
    "Let's have a look using the np.random.bionomial function:"
   ]
  },
  {
   "cell_type": "code",
   "execution_count": 45,
   "metadata": {},
   "outputs": [
    {
     "name": "stdout",
     "output_type": "stream",
     "text": [
      "[ 8  5  7  5  6  6  4  4  4  6  5  4  7  6  4  5  5  7  3  4  7  6  6  6\n",
      "  8  6  5  9  4  6  4  2  6  6  4  8  8  4  7  5  6  6  4  5  4  6  4  4\n",
      "  8  6  6  6  5  5  2  4  6  6  7  3  3  5  7 10  5  4  8  6  1  2  7  7\n",
      "  5  4  8  4  8  8  5  3  8  8  8  4  6  3  8  6  8  5  7  7  6  5  3  6\n",
      "  6  7  5  5]\n"
     ]
    }
   ],
   "source": [
    "n, p = 11, .5  # number of trials, probability of each trial\n",
    "s = np.random.binomial(n, p, 100) # s is the number of times the coin lands showing heads (success)\n",
    "print(s)\n",
    "# result of flipping a coin 10 times (and if this trial of 10 flips was conducted 100 times)"
   ]
  },
  {
   "cell_type": "markdown",
   "metadata": {},
   "source": [
    "#### Looking at the binomial distribution in a graph"
   ]
  },
  {
   "cell_type": "code",
   "execution_count": 15,
   "metadata": {},
   "outputs": [
    {
     "name": "stderr",
     "output_type": "stream",
     "text": [
      "C:\\Users\\I304302\\AppData\\Local\\Continuum\\anaconda3\\lib\\site-packages\\matplotlib\\axes\\_axes.py:6462: UserWarning: The 'normed' kwarg is deprecated, and has been replaced by the 'density' kwarg.\n",
      "  warnings.warn(\"The 'normed' kwarg is deprecated, and has been \"\n"
     ]
    },
    {
     "data": {
      "text/plain": [
       "[Text(0,0.5,'Frequency'), Text(0.5,0,'Binomial')]"
      ]
     },
     "execution_count": 15,
     "metadata": {},
     "output_type": "execute_result"
    },
    {
     "data": {
      "image/png": "[encoded data removed]",
      "text/plain": [
       "<Figure size 432x288 with 1 Axes>"
      ]
     },
     "metadata": {},
     "output_type": "display_data"
    }
   ],
   "source": [
    "from scipy.stats import binom # import binom module from scipy.stats to generate random variables \n",
    "binom.rvs(n=10,p=0.5) # as with the coin example lets look at the number of success from 10 trials with a 0.5 probability of success\n",
    "data_binom = binom.rvs(n=10,p=0.5,size=1000) # use binom.rvs to repeat the trials with size arguement so 1000 times the trails are repeated\n",
    "ax = sns.distplot(data_binom,\n",
    "                  kde=False,\n",
    "                  color='skyblue',\n",
    "                  hist_kws={\"linewidth\": 15,'alpha':1})\n",
    "ax.set(xlabel='Binomial', ylabel='Frequency')"
   ]
  },
  {
   "cell_type": "markdown",
   "metadata": {},
   "source": [
    "We can see the graph produces similar results to the example, if a coin is flipped 10 times there is more of a chance that the probability of success \"landing on heads\" will be closer to the central probability chance of 5 in 10 then on the outer findges of a 9 in 10 or 1 in 10 chance of success as indicated in the graph."
   ]
  },
  {
   "cell_type": "markdown",
   "metadata": {},
   "source": [
    "#### Uniform Distribution\n",
    "\n",
    "In statistics, uniform distribution also known as rectangle distribution, is a type of probability in which all outcomes are equally likely, where each variable has the same probability that it will be the outcome. There are two types of uniform distribution, discrete and continuous. \n",
    "\n",
    "The possible result of rolling a die is an example of discrete uniform distribution. It's posssible to roll a 1,2,3,4,5,6 so a roll of the die generates a discrete distribution with  a probability (p)= 1/6 for each outcome. A uniform distribution with only two possible outcomes is a special case of the binomial distribution which was discussed above.\n",
    "\n",
    "A variable X is said to be uniformly distributed if the density function is f(x) = 1/(b-a) where a and b are the parameters.\n",
    "\n",
    "Lets have a look using the np.random.uniform function:"
   ]
  },
  {
   "cell_type": "code",
   "execution_count": 51,
   "metadata": {},
   "outputs": [
    {
     "name": "stdout",
     "output_type": "stream",
     "text": [
      "[3.72018746 3.0611844  3.80767177 3.13218721 3.84259172]\n"
     ]
    }
   ],
   "source": [
    "s = np.random.uniform(3, 4, 5)\n",
    "print (s)"
   ]
  },
  {
   "cell_type": "markdown",
   "metadata": {},
   "source": [
    "The np.random.uniform function is very similar to the np.random.rand function the main difference being that the random.uniform fumction will return values of any interger."
   ]
  },
  {
   "cell_type": "code",
   "execution_count": 20,
   "metadata": {},
   "outputs": [
    {
     "name": "stderr",
     "output_type": "stream",
     "text": [
      "C:\\Users\\I304302\\AppData\\Local\\Continuum\\anaconda3\\lib\\site-packages\\matplotlib\\axes\\_axes.py:6462: UserWarning: The 'normed' kwarg is deprecated, and has been replaced by the 'density' kwarg.\n",
      "  warnings.warn(\"The 'normed' kwarg is deprecated, and has been \"\n"
     ]
    },
    {
     "data": {
      "text/plain": [
       "[Text(0,0.5,'Frequency'), Text(0.5,0,'Uniform ')]"
      ]
     },
     "execution_count": 20,
     "metadata": {},
     "output_type": "execute_result"
    },
    {
     "data": {
      "image/png": "[encoded data removed]",
      "text/plain": [
       "<Figure size 432x288 with 1 Axes>"
      ]
     },
     "metadata": {},
     "output_type": "display_data"
    }
   ],
   "source": [
    "ax = sns.distplot(data_uniform,\n",
    "                  bins=100,\n",
    "                  kde=False,\n",
    "                  color='skyblue',\n",
    "                  hist_kws={\"linewidth\": 15,'alpha':1})\n",
    "ax.set(xlabel='Uniform ', ylabel='Frequency')"
   ]
  },
  {
   "cell_type": "code",
   "execution_count": null,
   "metadata": {},
   "outputs": [],
   "source": []
  }
 ],
 "metadata": {
  "kernelspec": {
   "display_name": "Python 3",
   "language": "python",
   "name": "python3"
  },
  "language_info": {
   "codemirror_mode": {
    "name": "ipython",
    "version": 3
   },
   "file_extension": ".py",
   "mimetype": "text/x-python",
   "name": "python",
   "nbconvert_exporter": "python",
   "pygments_lexer": "ipython3",
   "version": "3.6.5"
  }
 },
 "nbformat": 4,
 "nbformat_minor": 2
}
